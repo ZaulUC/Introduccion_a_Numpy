{
 "cells": [
  {
   "cell_type": "code",
   "execution_count": 2,
   "id": "9e21834d",
   "metadata": {},
   "outputs": [
    {
     "name": "stdout",
     "output_type": "stream",
     "text": [
      "[1 2 3]\n"
     ]
    }
   ],
   "source": [
    "import numpy as np\n",
    "# Matriz unidimensional\n",
    "a = np.array([1, 2, 3])\n",
    "print(a)"
   ]
  },
  {
   "cell_type": "code",
   "execution_count": 20,
   "id": "0f31634e",
   "metadata": {},
   "outputs": [
    {
     "name": "stdout",
     "output_type": "stream",
     "text": [
      "[[1 2 3]\n",
      " [4 5 6]]\n"
     ]
    }
   ],
   "source": [
    "# Matriz bidimensional\n",
    "b = np.array([[1, 2, 3], [4, 5, 6]])\n",
    "print(b)"
   ]
  },
  {
   "cell_type": "code",
   "execution_count": 24,
   "id": "0434b16c-f5cb-4f24-91d0-dcee238353fc",
   "metadata": {},
   "outputs": [
    {
     "name": "stdout",
     "output_type": "stream",
     "text": [
      "[[1 2 3 4]\n",
      " [5 6 7 8]]\n"
     ]
    }
   ],
   "source": [
    "array=np.array([[1, 2, 3, 4],[5, 6, 7, 8]], dtype=np.int64)\n",
    "print(array)"
   ]
  },
  {
   "cell_type": "code",
   "execution_count": 26,
   "id": "65996f55",
   "metadata": {},
   "outputs": [
    {
     "name": "stdout",
     "output_type": "stream",
     "text": [
      "28000\n"
     ]
    }
   ],
   "source": [
    "# Cantidad de memoria asignada\n",
    "import sys\n",
    "S=range(1000)\n",
    "print(sys.getsizeof(5)*len(S))"
   ]
  },
  {
   "cell_type": "code",
   "execution_count": 27,
   "id": "16091aa8-8da9-4f56-a18b-a088c262482b",
   "metadata": {},
   "outputs": [
    {
     "name": "stdout",
     "output_type": "stream",
     "text": [
      "8000\n"
     ]
    }
   ],
   "source": [
    "D=np.arange(1000)\n",
    "print(D.size*D.itemsize)"
   ]
  },
  {
   "cell_type": "code",
   "execution_count": 28,
   "id": "ad1bccfa",
   "metadata": {},
   "outputs": [
    {
     "name": "stdout",
     "output_type": "stream",
     "text": [
      "175.93026161193848\n",
      "5.827903747558594\n"
     ]
    }
   ],
   "source": [
    "# Velocidad\n",
    "import time\n",
    "SIZE = 1000000\n",
    "L1 = range(SIZE)\n",
    "L2 = range(SIZE)\n",
    "\n",
    "start = time.time()\n",
    "result=[(x,y) for x,y in zip(L1,L2)]\n",
    "print((time.time() - start)*1000)\n",
    "\n",
    "A1 = np.arange(SIZE)\n",
    "A2 = np.arange(SIZE)\n",
    "\n",
    "start2= time.time()\n",
    "result2= A1+A2\n",
    "print((time.time() - start2)*1000)"
   ]
  },
  {
   "cell_type": "code",
   "execution_count": 34,
   "id": "04a2dc18",
   "metadata": {},
   "outputs": [
    {
     "name": "stdout",
     "output_type": "stream",
     "text": [
      "Unos:\n",
      " [[1. 1. 1. 1.]\n",
      " [1. 1. 1. 1.]\n",
      " [1. 1. 1. 1.]]\n",
      "Ceros:\n",
      " [[0. 0. 0. 0.]\n",
      " [0. 0. 0. 0.]\n",
      " [0. 0. 0. 0.]]\n",
      "Aleatorios:\n",
      " [[0.22130082 0.37278089 0.49673564 0.82747938]\n",
      " [0.1676529  0.10460733 0.41807674 0.70399782]\n",
      " [0.84693817 0.53474387 0.14849689 0.05755506]]\n",
      "Vacia:\n",
      " [[4.9e-324 9.9e-324]\n",
      " [1.5e-323 2.0e-323]\n",
      " [2.5e-323 3.0e-323]]\n",
      "Un solo valor:\n",
      " [[8 8]\n",
      " [8 8]]\n",
      "Espaciada:\n",
      " [ 0  5 10 15 20 25]\n",
      "Espaciada 2:\n",
      " [0.  0.5 1.  1.5 2. ]\n",
      "Identidad:\n",
      " [[1. 0. 0. 0.]\n",
      " [0. 1. 0. 0.]\n",
      " [0. 0. 1. 0.]\n",
      " [0. 0. 0. 1.]]\n",
      "Identidad 2:\n",
      " [[1. 0. 0. 0.]\n",
      " [0. 1. 0. 0.]\n",
      " [0. 0. 1. 0.]\n",
      " [0. 0. 0. 1.]]\n"
     ]
    }
   ],
   "source": [
    "# Matrices vacías y con valores\n",
    "\n",
    "# Crear una matriz de unos - 3 filas 4 columnas\n",
    "unos = np.ones((3, 4))\n",
    "\n",
    "# Crear una matriz de ceros - 3 filas 4 columnas\n",
    "ceros = np.zeros((3, 4))\n",
    "\n",
    "# Crear una matriz con valores aleatorios\n",
    "aleatorios = np.random.rand(3, 4)\n",
    "\n",
    "# Crear una matriz vacía\n",
    "vacia = np.empty((3, 2))\n",
    "\n",
    "# Crear una matriz con un solo valor\n",
    "constante = np.full((2, 2), 8)\n",
    "\n",
    "# Crear una matriz con valores espaciados uniformemente\n",
    "espaciada = np.arange(0, 30, 5)\n",
    "espaciada2 = np.linspace(0, 2, 5)\n",
    "\n",
    "# Crear una matriz identidad\n",
    "identidad = np.eye(4, 4)\n",
    "identidad2 = np.identity(4)\n",
    "\n",
    "print(\"Unos:\\n\", unos)\n",
    "print(\"Ceros:\\n\", ceros)\n",
    "print(\"Aleatorios:\\n\", aleatorios)\n",
    "print(\"Vacia:\\n\", vacia)\n",
    "print(\"Un solo valor:\\n\", constante)\n",
    "print(\"Espaciada:\\n\", espaciada)\n",
    "print(\"Espaciada 2:\\n\", espaciada2)\n",
    "print(\"Identidad:\\n\", identidad)\n",
    "print(\"Identidad 2:\\n\", identidad2)"
   ]
  },
  {
   "cell_type": "code",
   "execution_count": 40,
   "id": "ff641248",
   "metadata": {},
   "outputs": [
    {
     "name": "stdout",
     "output_type": "stream",
     "text": [
      "Matriz: \n",
      " [[1 2 3]\n",
      " [4 5 6]]\n",
      "Dimensiones: 2\n",
      "Tipo de datos: int64\n",
      "Tamaño total: 6\n",
      "Forma: (2, 3)\n",
      "Matriz base:\n",
      "[[ 8  9 10]\n",
      " [11 12 13]]\n",
      "Reformada:\n",
      "[[ 8  9]\n",
      " [10 11]\n",
      " [12 13]]\n"
     ]
    }
   ],
   "source": [
    "# Inspeccionar las matrices de Numpy\n",
    "mat = np.array([[1, 2, 3], [4, 5, 6]])\n",
    "print(\"Matriz: \\n\",mat)\n",
    "# Conocer las dimensiones de una matriz\n",
    "print(\"Dimensiones:\", mat.ndim)\n",
    "\n",
    "# Conocer el tipo de los datos\n",
    "print(\"Tipo de datos:\", mat.dtype)\n",
    "\n",
    "# Conocer el tamaño y forma de la matriz\n",
    "print(\"Tamaño total:\", mat.size)\n",
    "print(\"Forma:\", mat.shape)\n",
    "\n",
    "# Cambio de forma de una matriz\n",
    "a = np.array([[8, 9, 10],[11, 12, 13]])\n",
    "print(\"Matriz base:\")\n",
    "print(a)\n",
    "ref = a.reshape((3, 2))\n",
    "print(\"Reformada:\")\n",
    "print(ref)"
   ]
  },
  {
   "cell_type": "code",
   "execution_count": 42,
   "id": "2d50311c",
   "metadata": {},
   "outputs": [
    {
     "name": "stdout",
     "output_type": "stream",
     "text": [
      "Matriz: \n",
      " [[1 2 3 4]\n",
      " [5 6 7 8]]\n",
      "Elemento fila 0 col 2: 3\n",
      "Columna 3 completa: [3 7]\n"
     ]
    }
   ],
   "source": [
    "mat = np.array([[1, 2, 3, 4], [5, 6, 7, 8]])\n",
    "print(\"Matriz: \\n\",mat)\n",
    "# Extraer un solo valor de la matriz - el valor ubicado en la fila 0 columna 2\n",
    "print(\"Elemento fila 0 col 2:\", mat[0, 2])\n",
    "\n",
    "# Extraer los valores de todas las filas ubicados en la columna 3\n",
    "print(\"Columna 3 completa:\", mat[0:, 2])"
   ]
  },
  {
   "cell_type": "code",
   "execution_count": 3,
   "id": "3ef6ae4b",
   "metadata": {},
   "outputs": [
    {
     "name": "stdout",
     "output_type": "stream",
     "text": [
      "Mínimo: 2\n",
      "Máximo: 800\n",
      "Suma: 847\n",
      "Raíz cuadrada:\n",
      " [[1.         2.         9.        ]\n",
      " [5.74456265 6.63324958 7.07106781]]\n",
      "Desviación estándar:\n",
      " 27.5121185419565\n"
     ]
    }
   ],
   "source": [
    "# Operaciones Matemáticas entre matrices de NumPy\n",
    "\n",
    "# Encontrar el mínimo, máximo y la suma\n",
    "mat = np.array([2,45,800])\n",
    "print(\"Mínimo:\", mat.min())\n",
    "print(\"Máximo:\", mat.max())\n",
    "print(\"Suma:\", mat.sum())\n",
    "a = np.array([[1,4,81],[33, 44, 50]])\n",
    "# Calcular la raíz cuadrada y la desviación estándar\n",
    "print(\"Raíz cuadrada:\\n\", np.sqrt(a))\n",
    "print(\"Desviación estándar:\\n\", np.std(a))"
   ]
  },
  {
   "cell_type": "code",
   "execution_count": 5,
   "id": "390eb1cc",
   "metadata": {},
   "outputs": [
    {
     "name": "stdout",
     "output_type": "stream",
     "text": [
      "Suma:\n",
      " [[ 2  4  6]\n",
      " [ 6  8 10]]\n",
      "Resta:\n",
      " [[0 0 0]\n",
      " [0 0 0]]\n",
      "Multiplicación:\n",
      " [[ 1  4  9]\n",
      " [ 9 16 25]]\n",
      "División:\n",
      " [[1. 1. 1.]\n",
      " [1. 1. 1.]]\n"
     ]
    }
   ],
   "source": [
    "# Calcular la suma, resta, multiplicación y división de dos matrices\n",
    "a = np.array([[1, 2, 3], [3, 4, 5]])\n",
    "b = np.array([[1, 2, 3], [3, 4, 5]])\n",
    "print(\"Suma:\\n\", a + b)\n",
    "print(\"Resta:\\n\", a - b)\n",
    "print(\"Multiplicación:\\n\", a * b)\n",
    "print(\"División:\\n\", a / b)"
   ]
  },
  {
   "cell_type": "code",
   "execution_count": null,
   "id": "615572ed-d40e-47c1-8cfd-5983925c2c94",
   "metadata": {},
   "outputs": [],
   "source": []
  }
 ],
 "metadata": {
  "kernelspec": {
   "display_name": "Python 3 (ipykernel)",
   "language": "python",
   "name": "python3"
  },
  "language_info": {
   "codemirror_mode": {
    "name": "ipython",
    "version": 3
   },
   "file_extension": ".py",
   "mimetype": "text/x-python",
   "name": "python",
   "nbconvert_exporter": "python",
   "pygments_lexer": "ipython3",
   "version": "3.12.3"
  }
 },
 "nbformat": 4,
 "nbformat_minor": 5
}

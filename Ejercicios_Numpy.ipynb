{
 "cells": [
  {
   "cell_type": "code",
   "execution_count": 44,
   "id": "fc674d9f",
   "metadata": {},
   "outputs": [
    {
     "name": "stdout",
     "output_type": "stream",
     "text": [
      "[[0 0 0 0 0 0 0]\n",
      " [0 0 0 0 0 0 0]\n",
      " [0 0 0 0 0 0 0]\n",
      " [0 0 0 0 0 0 0]\n",
      " [0 0 0 0 0 0 0]\n",
      " [0 0 0 0 0 0 0]] \n",
      "\n",
      "[[1 1 1 1 1 1 1]\n",
      " [0 0 0 0 0 0 0]\n",
      " [0 0 0 0 0 0 0]\n",
      " [0 0 0 0 0 0 0]\n",
      " [0 0 0 0 0 0 0]\n",
      " [0 0 0 0 0 0 0]] \n",
      "\n",
      "[[0 0 0 0 0 0 0]\n",
      " [0 0 0 0 0 0 0]\n",
      " [0 0 0 0 0 0 0]\n",
      " [0 0 0 0 0 0 0]\n",
      " [0 0 0 0 0 0 0]\n",
      " [6 7 6 6 6 6 5]] \n",
      "\n"
     ]
    }
   ],
   "source": [
    "# Ejercicio 01\n",
    "import numpy as np\n",
    "\n",
    "# Array 7x8 lleno de ceros de tipo entero\n",
    "array1 = np.zeros((6, 7), dtype=int)\n",
    "\n",
    "# Array 7x8 lleno de ceros salvo la primera fila que serán todo unos\n",
    "array2 = np.zeros((6, 7), dtype=int)\n",
    "for i in range(7):\n",
    "    array2[0,i] = 1\n",
    "\n",
    "# Array 7x8 lleno de ceros salvo la última fila que será el rango entre 5 y 8\n",
    "array3 = np.zeros((6, 7), dtype=int)\n",
    "for z in range(7):\n",
    "    x = np.random.randint(5,8)\n",
    "    array3[5,z] = x\n",
    "\n",
    "# Mostrar los Arrays\n",
    "print(array1,\"\\n\")\n",
    "print(array2,\"\\n\")\n",
    "print(array3,\"\\n\")"
   ]
  },
  {
   "cell_type": "code",
   "execution_count": 45,
   "id": "968fe506",
   "metadata": {},
   "outputs": [
    {
     "name": "stdout",
     "output_type": "stream",
     "text": [
      "[2 1 2 1 2 1 2 1 2 1] \n",
      "\n",
      "[[0 1 0 1 0 1 0 1]\n",
      " [1 0 1 0 1 0 1 0]\n",
      " [0 1 0 1 0 1 0 1]\n",
      " [1 0 1 0 1 0 1 0]\n",
      " [0 1 0 1 0 1 0 1]\n",
      " [1 0 1 0 1 0 1 0]\n",
      " [0 1 0 1 0 1 0 1]\n",
      " [1 0 1 0 1 0 1 0]] \n",
      "\n"
     ]
    }
   ],
   "source": [
    "# Ejercicio 02\n",
    "\n",
    "# Vector de 10 elementos, siendo los impares 1 y los pares 2\n",
    "vector = np.array([1 if i % 2 else 2 for i in range(10)])\n",
    "\n",
    "# Tablero de ajedrez» 8x8, con 1 en las casillas negras y 0 en las casillas blancas\n",
    "tablero = np.zeros((7, 7), dtype=int)\n",
    "tablero[1::2, ::2] = 1\n",
    "tablero[::2, 1::2] = 1\n",
    "\n",
    "# Imprimir tableros\n",
    "print(v,\"\\n\")\n",
    "print(chess,\"\\n\")"
   ]
  },
  {
   "cell_type": "code",
   "execution_count": 48,
   "id": "e5d9f05c",
   "metadata": {},
   "outputs": [
    {
     "name": "stdout",
     "output_type": "stream",
     "text": [
      "\n",
      "Matriz aleatoria:\n",
      " [[0.02713896 0.14454124 0.26901385 0.8905184  0.27912284 0.76413198\n",
      "  0.43722155]\n",
      " [0.35370275 0.85380173 0.27014143 0.19167516 0.75296948 0.8038303\n",
      "  0.3590844 ]\n",
      " [0.93273212 0.72478437 0.89203586 0.82074415 0.56095857 0.75261252\n",
      "  0.45127208]\n",
      " [0.56408378 0.29618453 0.87845724 0.54222771 0.64256383 0.39841114\n",
      "  0.46712114]\n",
      " [0.82534745 0.39494877 0.6210657  0.50145347 0.36052064 0.29542137\n",
      "  0.37374462]\n",
      " [0.50930155 0.11043768 0.16000991 0.38570603 0.65872509 0.6284707\n",
      "  0.21152032]\n",
      " [0.00599756 0.48326852 0.01703038 0.06776913 0.10323166 0.41260604\n",
      "  0.7489808 ]]\n",
      "\n",
      "El valor MIN de la matriz aleatoria es:  0.005997555135759058 \n",
      "El valor MAX de la matriz aleatoria es:  0.9327321218773695\n",
      "\n",
      "Matriz normalizada:\n",
      " [[0.0228128  0.14949662 0.28380973 0.95444896 0.29471792 0.81807073\n",
      "  0.46531554]\n",
      " [0.37519395 0.91482956 0.28502646 0.20035683 0.80602575 0.8609075\n",
      "  0.38100105]\n",
      " [1.         0.7756124  0.95608639 0.87915852 0.59883491 0.80564057\n",
      "  0.48047687]\n",
      " [0.60220719 0.31312847 0.94143427 0.57862324 0.68689169 0.42343687\n",
      "  0.49757892]\n",
      " [0.88412575 0.41970077 0.66369397 0.53462549 0.38255084 0.31230497\n",
      "  0.39682028]\n",
      " [0.54309401 0.11269691 0.16618821 0.40972733 0.70433062 0.67168439\n",
      "  0.2217709 ]\n",
      " [0.         0.51500288 0.01190505 0.06665509 0.1049212  0.43875399\n",
      "  0.80172173]]\n"
     ]
    }
   ],
   "source": [
    "# Ejercicio 03\n",
    "\n",
    "# Matriz aleatoria 7x7\n",
    "mat = np.random.rand(7, 7)\n",
    "min_val = mat.min()\n",
    "max_val = mat.max()\n",
    "\n",
    "# Normalización entre 0 y 1\n",
    "normalized = (mat - min_val) / (max_val - min_val)\n",
    "\n",
    "print(\"\\nMatriz aleatoria:\\n\", mat)\n",
    "print(\"\\nEl valor MIN de la matriz aleatoria es: \", min_val, \"\\nEl valor MAX de la matriz aleatoria es: \", max_val)\n",
    "print(\"\\nMatriz normalizada:\\n\", normalized)"
   ]
  },
  {
   "cell_type": "code",
   "execution_count": 57,
   "id": "10b4e1c9",
   "metadata": {},
   "outputs": [
    {
     "name": "stdout",
     "output_type": "stream",
     "text": [
      "Matriz original: \n",
      " [[1 1 1 1 1]\n",
      " [1 0 0 0 1]\n",
      " [1 0 9 0 1]\n",
      " [1 0 0 0 1]\n",
      " [1 1 1 1 1]]\n",
      "\n",
      "Matriz Invertida: \n",
      " [[9 9 9 9 9]\n",
      " [9 0 0 0 9]\n",
      " [9 0 1 0 9]\n",
      " [9 0 0 0 9]\n",
      " [9 9 9 9 9]]\n"
     ]
    }
   ],
   "source": [
    "# Ejercicio 04\n",
    "\n",
    "# Matriz inicial con 1 y 9\n",
    "mat = np.ones((5,5),dtype=int)\n",
    "mat[1:4,1:4]=0\n",
    "mat[2,2]=9\n",
    "print(\"Matriz original: \\n\",mat)\n",
    "\n",
    "\n",
    "# Invertir lo valores de 9 y 1 de la Matriz anterior\n",
    "mat_swapped = mat.copy()\n",
    "mat_swapped[mat == 1] = -1\n",
    "mat_swapped[mat == 9] = 1\n",
    "mat_swapped[mat_swapped == -1] = 9\n",
    "print(\"\\nMatriz Invertida: \\n\",mat_swapped)"
   ]
  },
  {
   "cell_type": "code",
   "execution_count": 75,
   "id": "78a7434f",
   "metadata": {},
   "outputs": [
    {
     "name": "stdout",
     "output_type": "stream",
     "text": [
      "Matriz original:\n",
      " [[ 1  2  3  4  5]\n",
      " [ 6  7  8  9 10]\n",
      " [11 12 13 14 15]\n",
      " [16 17 18 19 20]\n",
      " [21 22 23 24 25]\n",
      " [26 27 28 29 30]]\n",
      "\n",
      "Submatriz VERDE: [ 2  8 14 20]\n",
      "\n",
      "Submatriz ROJA: [ 4  5 24 25 29 30]\n",
      "\n",
      "Submatriz AZUL: [11 12 16 17]\n"
     ]
    }
   ],
   "source": [
    "# Ejercicio 05\n",
    "\n",
    "# Crear la matriz principal\n",
    "mat = np.arange(1, 31).reshape(6, 5)\n",
    "\n",
    "verde_vals = [2, 8, 14, 20]\n",
    "rojo_vals = [4, 5, 24, 25, 29, 30]\n",
    "azul_vals = [11, 12, 16, 17]\n",
    "\n",
    "# Extraer Matrices de cada color\n",
    "verde_mask = np.isin(mat,verde_vals)\n",
    "rojo_mask = np.isin(mat,rojo_vals)\n",
    "azul_mask = np.isin(mat,azul_vals)\n",
    "\n",
    "verde = mat[verde_mask]\n",
    "rojo = mat[rojo_mask]\n",
    "azul = mat[azul_mask]\n",
    "\n",
    "print(\"Matriz original:\\n\", mat)\n",
    "print(\"\\nSubmatriz VERDE:\", verde)\n",
    "print(\"\\nSubmatriz ROJA:\", rojo)\n",
    "print(\"\\nSubmatriz AZUL:\", azul)"
   ]
  },
  {
   "cell_type": "code",
   "execution_count": 74,
   "id": "80978515",
   "metadata": {},
   "outputs": [
    {
     "name": "stdout",
     "output_type": "stream",
     "text": [
      "Matriz original:\n",
      "[[255  34  45  16  24  99]\n",
      " [200  50  67  15  56  88]\n",
      " [165  67  34  26  87  70]\n",
      " [120 100  45  56  67   0]\n",
      " [ 45 225  35  67  50  44]\n",
      " [ 36 255  24  78  77  23]]\n",
      "\n",
      "Matriz modificada:\n",
      "[[  0   0   0  16  24  99]\n",
      " [  0 255   0  15  56  88]\n",
      " [  0   0   0  26  87  70]\n",
      " [120 100  45   0   0   0]\n",
      " [ 45 225  35   0 255   0]\n",
      " [ 36 255  24   0   0   0]]\n"
     ]
    }
   ],
   "source": [
    "# Ejercicio 06\n",
    "\n",
    "# Matriz verde\n",
    "matriz_verde = np.array([\n",
    "    [255,  34,  45,  16,  24,  99],\n",
    "    [200,  50,  67,  15,  56,  88],\n",
    "    [165,  67,  34,  26,  87,  70],\n",
    "    [120, 100,  45,  56,  67,   0],\n",
    "    [ 45, 225,  35,  67,  50,  44],\n",
    "    [ 36, 255,  24,  78,  77,  23]\n",
    "])\n",
    "\n",
    "# Matriz celeste \n",
    "matriz_celeste = np.array([\n",
    "    [  0,   0,   0],\n",
    "    [  0, 255,   0],\n",
    "    [  0,   0,   0]\n",
    "])\n",
    "\n",
    "# Funcion para el reemplazo\n",
    "def reemplazar_por_celeste(matriz, valor, reemplazo):\n",
    "    filas, columnas = matriz.shape\n",
    "    for i in range(1, filas - 1):\n",
    "        for j in range(1, columnas - 1):\n",
    "            if matriz[i, j] == valor:\n",
    "                matriz[i-1:i+2, j-1:j+2] = reemplazo\n",
    "    return matriz\n",
    "\n",
    "matriz_modificada = reemplazar_por_celeste(matriz_verde.copy(), 50, matriz_celeste)\n",
    "\n",
    "print(\"Matriz original:\")\n",
    "print(matriz_verde)\n",
    "print(\"\\nMatriz modificada:\")\n",
    "print(matriz_modificada)"
   ]
  },
  {
   "cell_type": "code",
   "execution_count": null,
   "id": "7524c2b9-0471-4e9a-89cc-968dc6d54465",
   "metadata": {},
   "outputs": [],
   "source": []
  }
 ],
 "metadata": {
  "kernelspec": {
   "display_name": "Python 3 (ipykernel)",
   "language": "python",
   "name": "python3"
  },
  "language_info": {
   "codemirror_mode": {
    "name": "ipython",
    "version": 3
   },
   "file_extension": ".py",
   "mimetype": "text/x-python",
   "name": "python",
   "nbconvert_exporter": "python",
   "pygments_lexer": "ipython3",
   "version": "3.12.3"
  }
 },
 "nbformat": 4,
 "nbformat_minor": 5
}
